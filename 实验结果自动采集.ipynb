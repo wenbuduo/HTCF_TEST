{
 "cells": [
  {
   "cell_type": "code",
   "execution_count": 34,
   "metadata": {
    "collapsed": true
   },
   "outputs": [],
   "source": [
    "import os\n",
    "import numpy as np\n",
    "import pickle"
   ]
  },
  {
   "cell_type": "code",
   "execution_count": 48,
   "outputs": [
    {
     "name": "stdout",
     "output_type": "stream",
     "text": [
      "./results/0/NeuTF_0.100_NMAE1.pkl\n",
      "0.24148611480283055\n"
     ]
    },
    {
     "ename": "EOFError",
     "evalue": "Ran out of input",
     "output_type": "error",
     "traceback": [
      "\u001B[1;31m---------------------------------------------------------------------------\u001B[0m",
      "\u001B[1;31mEOFError\u001B[0m                                  Traceback (most recent call last)",
      "\u001B[1;32m<ipython-input-48-b134bd2f7de1>\u001B[0m in \u001B[0;36m<module>\u001B[1;34m\u001B[0m\n\u001B[0;32m     24\u001B[0m             \u001B[1;31m# print((density - 0.1), int((density - 0.1) * 10))\u001B[0m\u001B[1;33m\u001B[0m\u001B[1;33m\u001B[0m\u001B[1;33m\u001B[0m\u001B[0m\n\u001B[0;32m     25\u001B[0m             \u001B[0mprint\u001B[0m\u001B[1;33m(\u001B[0m\u001B[0mpickle\u001B[0m\u001B[1;33m.\u001B[0m\u001B[0mload\u001B[0m\u001B[1;33m(\u001B[0m\u001B[0mf\u001B[0m\u001B[1;33m)\u001B[0m\u001B[1;33m)\u001B[0m\u001B[1;33m\u001B[0m\u001B[1;33m\u001B[0m\u001B[0m\n\u001B[1;32m---> 26\u001B[1;33m             \u001B[0mall_results\u001B[0m\u001B[1;33m[\u001B[0m\u001B[0mint\u001B[0m\u001B[1;33m(\u001B[0m\u001B[0mdataset_i\u001B[0m\u001B[1;33m)\u001B[0m\u001B[1;33m]\u001B[0m\u001B[1;33m[\u001B[0m\u001B[0mint\u001B[0m\u001B[1;33m(\u001B[0m\u001B[1;33m(\u001B[0m\u001B[0mdensity\u001B[0m \u001B[1;33m-\u001B[0m \u001B[1;36m0.1\u001B[0m\u001B[1;33m)\u001B[0m \u001B[1;33m*\u001B[0m \u001B[1;36m10\u001B[0m\u001B[1;33m)\u001B[0m\u001B[1;33m]\u001B[0m \u001B[1;33m=\u001B[0m \u001B[0mpickle\u001B[0m\u001B[1;33m.\u001B[0m\u001B[0mload\u001B[0m\u001B[1;33m(\u001B[0m\u001B[0mf\u001B[0m\u001B[1;33m)\u001B[0m\u001B[1;33m\u001B[0m\u001B[1;33m\u001B[0m\u001B[0m\n\u001B[0m\u001B[0;32m     27\u001B[0m     \u001B[1;31m# print(dir_2)\u001B[0m\u001B[1;33m\u001B[0m\u001B[1;33m\u001B[0m\u001B[1;33m\u001B[0m\u001B[0m\n\u001B[0;32m     28\u001B[0m     \u001B[1;31m# break\u001B[0m\u001B[1;33m\u001B[0m\u001B[1;33m\u001B[0m\u001B[1;33m\u001B[0m\u001B[0m\n",
      "\u001B[1;31mEOFError\u001B[0m: Ran out of input"
     ]
    }
   ],
   "source": [
    "directory_path = './results/'\n",
    "\n",
    "# 使用os.listdir()列出目录下的所有文件和文件夹\n",
    "all_files = os.listdir(directory_path)\n",
    "\n",
    "dir_list = [str(_) for _ in range(0, 11)]\n",
    "\n",
    "# 使用列表推导式筛选出以.py为扩展名的文件\n",
    "python_files = [f for f in all_files if f in dir_list]\n",
    "\n",
    "# 打印所有Python文件的列表\n",
    "# for file in python_files:\n",
    "#     print(file)\n",
    "\n",
    "all_results = np.zeros((11, 5))\n",
    "for dataset_i in dir_list:\n",
    "    dir_2 = directory_path + python_files[int(dataset_i)] + '/'\n",
    "    all_files_2 = os.listdir(dir_2)\n",
    "\n",
    "    for density in [0.101, 0.201, 0.301, 0.401, 0.501]:\n",
    "        dir_3 = dir_2 + 'NeuTF_' + f'{density - 0.001:.3f}' + '_NMAE1.pkl'\n",
    "        print(dir_3)\n",
    "        with open(dir_3, 'rb') as f:\n",
    "            # print((density - 0.1), int((density - 0.1) * 10))\n",
    "            print(pickle.load(f))\n",
    "            all_results[int(dataset_i)][int((density - 0.1) * 10)] = pickle.load(f)\n",
    "    # print(dir_2)\n",
    "    # break\n",
    "all_results\n"
   ],
   "metadata": {
    "collapsed": false
   }
  },
  {
   "cell_type": "code",
   "execution_count": null,
   "outputs": [],
   "source": [],
   "metadata": {
    "collapsed": false
   }
  },
  {
   "cell_type": "code",
   "execution_count": 27,
   "outputs": [
    {
     "data": {
      "text/plain": "['NeuTF_0.100_NMAE1.pkl',\n 'NeuTF_0.100_NMAE2.pkl',\n 'NeuTF_0.100_NRMSE1.pkl',\n 'NeuTF_0.100_NRMSE2.pkl',\n 'NeuTF_0.100_TIME1.pkl',\n 'NeuTF_0.100_TIME2.pkl',\n 'NeuTF_0.200_NMAE1.pkl',\n 'NeuTF_0.200_NMAE2.pkl',\n 'NeuTF_0.200_NRMSE1.pkl',\n 'NeuTF_0.200_NRMSE2.pkl',\n 'NeuTF_0.200_TIME1.pkl',\n 'NeuTF_0.200_TIME2.pkl',\n 'NeuTF_0.300_NMAE1.pkl',\n 'NeuTF_0.300_NMAE2.pkl',\n 'NeuTF_0.300_NRMSE1.pkl',\n 'NeuTF_0.300_NRMSE2.pkl',\n 'NeuTF_0.300_TIME1.pkl',\n 'NeuTF_0.300_TIME2.pkl',\n 'NeuTF_0.400_NMAE1.pkl',\n 'NeuTF_0.400_NMAE2.pkl',\n 'NeuTF_0.400_NRMSE1.pkl',\n 'NeuTF_0.400_NRMSE2.pkl',\n 'NeuTF_0.400_TIME1.pkl',\n 'NeuTF_0.400_TIME2.pkl',\n 'NeuTF_0.500_NMAE1.pkl',\n 'NeuTF_0.500_NMAE2.pkl',\n 'NeuTF_0.500_NRMSE1.pkl',\n 'NeuTF_0.500_NRMSE2.pkl',\n 'NeuTF_0.500_TIME1.pkl',\n 'NeuTF_0.500_TIME2.pkl']"
     },
     "execution_count": 27,
     "metadata": {},
     "output_type": "execute_result"
    }
   ],
   "source": [
    "all_files_2\n"
   ],
   "metadata": {
    "collapsed": false
   }
  },
  {
   "cell_type": "code",
   "execution_count": null,
   "outputs": [],
   "source": [],
   "metadata": {
    "collapsed": false
   }
  }
 ],
 "metadata": {
  "kernelspec": {
   "display_name": "Python 3",
   "language": "python",
   "name": "python3"
  },
  "language_info": {
   "codemirror_mode": {
    "name": "ipython",
    "version": 2
   },
   "file_extension": ".py",
   "mimetype": "text/x-python",
   "name": "python",
   "nbconvert_exporter": "python",
   "pygments_lexer": "ipython2",
   "version": "2.7.6"
  }
 },
 "nbformat": 4,
 "nbformat_minor": 0
}
