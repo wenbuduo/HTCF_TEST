{
 "cells": [
  {
   "cell_type": "markdown",
   "source": [
    "# Experiment sh"
   ],
   "metadata": {
    "collapsed": false
   }
  },
  {
   "cell_type": "code",
   "execution_count": 1,
   "outputs": [
    {
     "name": "stdout",
     "output_type": "stream",
     "text": [
      "2023-11-30 14:14:15 \"11.30 Experiment.sh\" 文件保存成功!\n"
     ]
    }
   ],
   "source": [
    "from utils.utils import create_sh_file\n",
    "order = []\n",
    "# 数据集\n",
    "for model in ['3']:\n",
    "    for density in [0.10, 0.20, 0.30, 0.40, 0.50]:\n",
    "        string = f'python Experiment.py --rounds {5} --exper {model} --model {model} '\n",
    "        string += f'--density {density} '\n",
    "        string += f'--epochs {150} '\n",
    "        string += f'--bs {32} --lr {0.001} --decay {0.001} '\n",
    "        string += f'--dimension {64} '\n",
    "        string += f'--experiment 1 --record {1} --program_test {0} --verbose {10} '\n",
    "        string += f'--valid {1}'\n",
    "        order.append(string)\n",
    "create_sh_file(order, 'Experiment')"
   ],
   "metadata": {
    "collapsed": false
   }
  },
  {
   "cell_type": "markdown",
   "source": [
    "# Jupyter NoteBook"
   ],
   "metadata": {
    "collapsed": false
   }
  },
  {
   "cell_type": "code",
   "execution_count": 5,
   "metadata": {
    "collapsed": true
   },
   "outputs": [
    {
     "name": "stdout",
     "output_type": "stream",
     "text": [
      "2023-11-23 14:54:12 \"11.23 超参数探索.ipynb\" 文件保存成功!\n"
     ]
    }
   ],
   "source": [
    "from utils.utils import create_ipynb_file\n",
    "order = []\n",
    "# 数据集\n",
    "for model in ['NeuCF']:\n",
    "    # 超参数\n",
    "    for dim in [16, 32, 64, 128]:\n",
    "        for density in [0.20]:\n",
    "            string = f'!python Experiment.py --rounds {5} --per_or_all 1 --model {model} '\n",
    "            string += f'--density {density} '\n",
    "            string += f'--epochs {100} '\n",
    "            string += f'--bs {256} --lr {0.001} --decay {0.001} '\n",
    "            string += f'--dimension {dim} '\n",
    "            string += f'--record {1} --program_test {0} --verbose {10} '\n",
    "            string += f'--valid {0}'\n",
    "            cell = {\n",
    "                \"cell_type\" : \"code\",\n",
    "                \"source\" : string,\n",
    "                \"metadata\" : {}\n",
    "            }\n",
    "            order.append(cell)\n",
    "create_ipynb_file(order, '超参数探索')"
   ]
  },
  {
   "cell_type": "markdown",
   "source": [
    "# Windows demo"
   ],
   "metadata": {
    "collapsed": false
   }
  },
  {
   "cell_type": "code",
   "execution_count": null,
   "outputs": [],
   "source": [
    "from utils.utils import set_settings\n",
    "from Experiment import RunExperiments\n",
    "from utils.logger import Logger\n",
    "import argparse\n",
    "import numpy as np\n",
    "\n",
    "# Run Experiments\n",
    "for dataset in ['abilene', 'geant', 'seattle', 'wsdream']:\n",
    "    for density in [0.025, 0.050, 0.075, 0.100]:\n",
    "        args.debug = 1\n",
    "        args.dataset = dataset\n",
    "        args.density = density\n",
    "        args.verbose = 0\n",
    "        set_settings(args)\n",
    "        metrics = RunExperiments(log, args)\n",
    "        NRMSE, NMAE, TIME = np.mean(metrics['NRMSE']), np.mean(metrics['NMAE']), np.mean(metrics['TIME'])\n",
    "        log.print(f'Dataset: {dataset}, Density: {density:.3f}   Results: NRMSE={NRMSE:.4f} NMAE={NMAE:.4f} Training_time={TIME:.1f} s')\n"
   ],
   "metadata": {
    "collapsed": false
   }
  }
 ],
 "metadata": {
  "kernelspec": {
   "display_name": "Python 3",
   "language": "python",
   "name": "python3"
  },
  "language_info": {
   "codemirror_mode": {
    "name": "ipython",
    "version": 2
   },
   "file_extension": ".py",
   "mimetype": "text/x-python",
   "name": "python",
   "nbconvert_exporter": "python",
   "pygments_lexer": "ipython2",
   "version": "2.7.6"
  }
 },
 "nbformat": 4,
 "nbformat_minor": 0
}
