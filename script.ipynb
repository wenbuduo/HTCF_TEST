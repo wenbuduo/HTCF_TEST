{
 "cells": [
  {
   "cell_type": "code",
   "execution_count": null,
   "outputs": [],
   "source": [],
   "metadata": {
    "collapsed": false
   }
  },
  {
   "cell_type": "code",
   "execution_count": 2,
   "outputs": [
    {
     "name": "stdout",
     "output_type": "stream",
     "text": [
      "Parameter containing:\n",
      "tensor([[ 0.1328,  0.1128,  0.2165,  0.1414, -0.1209, -0.0705, -0.1974, -0.0221,\n",
      "         -0.1913, -0.2202],\n",
      "        [ 0.0220, -0.0999, -0.2037,  0.2232, -0.0719, -0.1309,  0.3074, -0.3039,\n",
      "         -0.2948, -0.0179],\n",
      "        [ 0.0186, -0.1334,  0.2539,  0.0570,  0.2567, -0.1283,  0.0300, -0.1682,\n",
      "          0.0515, -0.0956],\n",
      "        [ 0.0775,  0.0748, -0.2260, -0.1075, -0.0134, -0.0015,  0.1811, -0.1920,\n",
      "          0.2128,  0.1181],\n",
      "        [-0.0436,  0.1925, -0.1121,  0.0341, -0.1951, -0.2919, -0.0515,  0.2006,\n",
      "          0.1914,  0.0451]], requires_grad=True)\n",
      "Parameter containing:\n",
      "tensor([0.0061, 0.0630, 0.1417, 0.2799, 0.0940], requires_grad=True)\n"
     ]
    }
   ],
   "source": [
    "import torch.nn as nn\n",
    "\n",
    "# 创建一个线性层\n",
    "linear_layer = nn.Linear(in_features=10, out_features=5)\n",
    "\n",
    "# 获取这个层的权重张量\n",
    "weight_tensor = linear_layer.weight\n",
    "\n",
    "# 如果层有偏差，也可以获取偏差张量\n",
    "bias_tensor = linear_layer.bias\n",
    "\n",
    "print(weight_tensor)\n",
    "print(bias_tensor)"
   ],
   "metadata": {
    "collapsed": false,
    "pycharm": {
     "name": "#%%\n"
    }
   }
  },
  {
   "cell_type": "code",
   "execution_count": 4,
   "outputs": [
    {
     "name": "stdout",
     "output_type": "stream",
     "text": [
      "tensor([[[1.1438, 1.3055, 0.8035, 1.0143, 0.4764],\n",
      "         [0.7192, 0.6410, 0.4640, 0.5233, 0.2860],\n",
      "         [1.0350, 1.1551, 0.7767, 0.7677, 0.3313]],\n",
      "\n",
      "        [[0.4197, 0.6504, 0.8549, 0.5841, 0.6747],\n",
      "         [0.6886, 1.3599, 1.7349, 1.5172, 1.5506],\n",
      "         [0.6285, 0.6684, 0.9977, 0.8744, 1.1128]],\n",
      "\n",
      "        [[1.0565, 0.5090, 1.0541, 0.7350, 0.8123],\n",
      "         [1.0853, 0.4726, 1.1764, 0.7285, 0.8730],\n",
      "         [1.3722, 0.5734, 1.3176, 1.0971, 0.9334]],\n",
      "\n",
      "        [[1.3429, 1.9273, 1.1746, 1.6608, 0.9725],\n",
      "         [1.3424, 2.0865, 0.9649, 1.7527, 1.1621],\n",
      "         [1.0327, 1.3081, 0.7048, 1.2313, 0.7364]],\n",
      "\n",
      "        [[0.7650, 0.3915, 0.4712, 0.4500, 0.3596],\n",
      "         [1.1740, 0.7228, 0.6044, 1.2556, 0.8664],\n",
      "         [2.5100, 1.3445, 1.3151, 2.0209, 1.3745]],\n",
      "\n",
      "        [[0.4740, 0.5039, 0.7798, 0.6015, 0.9773],\n",
      "         [1.0369, 1.2369, 1.6659, 1.7379, 1.7775],\n",
      "         [0.3604, 0.3907, 1.3132, 1.1219, 1.1490]],\n",
      "\n",
      "        [[1.5612, 1.5705, 1.8542, 1.0448, 0.9766],\n",
      "         [0.3859, 0.4505, 0.5447, 0.2212, 0.2132],\n",
      "         [0.8653, 0.9008, 1.1315, 0.8602, 0.5304]],\n",
      "\n",
      "        [[0.4282, 0.6347, 0.7267, 0.4127, 1.2442],\n",
      "         [0.5561, 0.8336, 1.5934, 0.6798, 0.9782],\n",
      "         [0.5530, 0.8533, 1.2629, 0.6475, 1.4156]],\n",
      "\n",
      "        [[0.2715, 0.3782, 0.9387, 0.6021, 0.3671],\n",
      "         [0.6084, 0.9679, 1.0264, 1.1057, 1.1086],\n",
      "         [0.3177, 0.8889, 0.8500, 1.1065, 0.8652]],\n",
      "\n",
      "        [[0.9236, 0.9061, 1.0675, 0.9926, 0.7976],\n",
      "         [1.2409, 0.6340, 1.3119, 1.2389, 0.9224],\n",
      "         [0.9389, 0.8095, 1.1080, 0.8198, 0.6770]]])\n"
     ]
    }
   ],
   "source": [
    "import torch\n",
    "a = torch.rand(10, 3, 4)\n",
    "b = torch.rand(10, 4, 5)\n",
    "result = torch.matmul(a, b)\n",
    "print(result)"
   ],
   "metadata": {
    "collapsed": false,
    "pycharm": {
     "name": "#%%\n"
    }
   }
  },
  {
   "cell_type": "code",
   "execution_count": 3,
   "outputs": [
    {
     "name": "stdout",
     "output_type": "stream",
     "text": [
      "tensor([[ 0.1003,  0.0381, -0.6002,  0.4353,  0.3966,  1.4162,  0.4074, -0.1586,\n",
      "         -1.8882, -0.5203],\n",
      "        [-1.9297, -1.1979, -0.7297,  1.3755,  0.2209, -0.5329,  0.5461,  1.3155,\n",
      "         -0.4006,  1.1193],\n",
      "        [ 1.2182, -1.1465, -0.3906,  0.7033, -0.2705,  0.3169, -1.1857,  0.1887,\n",
      "          0.8311, -0.1330],\n",
      "        [-0.7727,  0.3928,  0.8871,  0.7755,  0.2137, -0.4681, -1.2016,  1.6911,\n",
      "         -0.7082,  0.3101],\n",
      "        [-1.6079,  0.0609, -1.3850, -0.5055,  0.5591,  0.5418, -0.8964,  0.5556,\n",
      "          0.0289, -2.2731],\n",
      "        [-1.0700,  0.2935,  0.2194, -0.4397, -2.0607, -1.3887, -0.4099,  1.2036,\n",
      "          1.3818, -0.4682],\n",
      "        [ 0.0687,  0.4978,  0.2082,  0.6657, -0.4936, -0.7826, -0.0898,  0.7686,\n",
      "         -0.7218,  0.3256],\n",
      "        [-0.5222,  0.1381, -0.6129, -0.9769,  0.6399, -0.2060, -0.1598, -2.2684,\n",
      "         -0.5007, -1.8598],\n",
      "        [ 0.3291,  0.0232,  0.7342,  1.8856,  1.1988,  0.9191,  0.7936,  0.4591,\n",
      "         -1.0628, -0.4688],\n",
      "        [-0.2844, -1.0730,  0.1671, -0.3033,  0.4725,  0.5617,  0.0111,  0.0609,\n",
      "         -2.5162, -1.3772]])\n",
      "tensor([1, 1, 0, 0, 0, 1, 1, 1, 1, 1])\n",
      "Epoch 1, Loss: 0.36080402135849\n",
      "Epoch 2, Loss: 0.35328415036201477\n",
      "Epoch 3, Loss: 0.34585732221603394\n",
      "Epoch 4, Loss: 0.3385251760482788\n",
      "Epoch 5, Loss: 0.3312893509864807\n"
     ]
    }
   ],
   "source": [
    "import torch\n",
    "import torch.nn as nn\n",
    "import torch.optim as optim\n",
    "\n",
    "# 定义一个简单的网络模型\n",
    "class SimpleNN(nn.Module):\n",
    "    def __init__(self):\n",
    "        super(SimpleNN, self).__init__()\n",
    "        self.fc = nn.Linear(10, 2)  # 假设输入特征维度为10，输出特征维度为2\n",
    "\n",
    "    def forward(self, x):\n",
    "        x = self.fc(x)\n",
    "        return x\n",
    "\n",
    "# 构建一个对比损失函数\n",
    "class ContrastiveLoss(nn.Module):\n",
    "    def __init__(self, margin=1.0):\n",
    "        super(ContrastiveLoss, self).__init__()\n",
    "        self.margin = margin\n",
    "\n",
    "    def forward(self, output1, output2, label):\n",
    "        euclidean_distance = nn.functional.pairwise_distance(output1, output2)\n",
    "        loss_contrastive = torch.mean((1 - label) * torch.pow(euclidean_distance, 2) +\n",
    "                                      (label) * torch.pow(torch.clamp(self.margin - euclidean_distance, min=0.0), 2))\n",
    "        return loss_contrastive\n",
    "\n",
    "# 实例化模型和损失函数\n",
    "model = SimpleNN()\n",
    "criterion = ContrastiveLoss(margin=1.0)\n",
    "optimizer = optim.Adam(model.parameters(), lr=0.001)\n",
    "\n",
    "# 假设有一些训练数据\n",
    "# 这里我们随机生成数据作为示例\n",
    "# output1 和 output2 是网络的输出，label是一个表示是否相似的标签，1表示相似，0表示不相似\n",
    "output1 = torch.randn(10, 10)  # 假设有10个样本，每个样本10个特征\n",
    "output2 = torch.randn(10, 10)\n",
    "print(output2)\n",
    "labels = torch.randint(0, 2, (10,))\n",
    "print(labels)\n",
    "\n",
    "# 训练模型\n",
    "for epoch in range(5):  # 训练5个epoch\n",
    "    optimizer.zero_grad()\n",
    "    out1 = model(output1)\n",
    "    out2 = model(output2)\n",
    "    loss = criterion(out1, out2, labels)\n",
    "    loss.backward()\n",
    "    optimizer.step()\n",
    "    print(f'Epoch {epoch+1}, Loss: {loss.item()}')\n"
   ],
   "metadata": {
    "collapsed": false,
    "pycharm": {
     "name": "#%%\n"
    }
   }
  }
 ],
 "metadata": {
  "kernelspec": {
   "display_name": "Python 3",
   "language": "python",
   "name": "python3"
  },
  "language_info": {
   "codemirror_mode": {
    "name": "ipython",
    "version": 2
   },
   "file_extension": ".py",
   "mimetype": "text/x-python",
   "name": "python",
   "nbconvert_exporter": "python",
   "pygments_lexer": "ipython2",
   "version": "2.7.6"
  }
 },
 "nbformat": 4,
 "nbformat_minor": 0
}